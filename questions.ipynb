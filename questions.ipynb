{
 "cells": [
  {
   "cell_type": "markdown",
   "metadata": {},
   "source": [
    "# TicketSwap Interview Questions: Machine Learning Engineering Task\n",
    "\n",
    "This is a take home project that's designed to be done within a 2-hour time window. You can take as long as you like. You will be working with a project which contains three simplified files of actual code: `cli.py`, `src/etl.py`, and `src/gradidentboost.py`. The provided code is non-functional and is not expected to be executed. Despite having comments, their accuracy is not guaranteed. This exercise is designed to mimic the experience of working with real-world code, including all its potential complexities and issues. Your task will involve a debugging and code review session based on this code, accompanied by relevant context related to the machine learning problem at hand. For each question a markdown cell and code cell are provided for your response. You don't need to use the code cell if it's not necessary fo the question and you can use additional code/markdown cells if you need to (but try to keep it concise). \n",
    "\n",
    "#### Important Context:\n",
    "This scenario represents a somewhat extreme case rather than a typical project. You'll be dealing with legacy code, possibly written under constraints of time or expertise, giving you a glimpse into the challenges of inheriting and improving upon existing work. \n",
    "\n",
    "#### Scenario Overview:\n",
    "As the newly appointed machine learning engineer, you are tasked with identifying and fixing issues within the \"Seller Fraud Detector\" system. This is your first encounter with the model, and its internal workings are unknown to you. However, you are provided with essential details on how the model operates:\n",
    "\n",
    "* The model's function is to assess __individual transaction records__ (each representing a ticket sale) and predict the likelihood of fraudulent activity.\n",
    "* The model is trained on a dataset comprising past transactions, each labeled as `0` (legitimate) or `1` (fraudulent), focusing on the most recent year's data (you don't have access to).\n",
    "* To maintain its relevance, the model undergoes daily retraining using the latest available data.\n",
    "* Input variables include an extensive range of indicators derived from user information, the payment processing system, and the details of the item being sold.\n",
    "    * Example of such features are: user information like location, device, and account age; payment information like payment method, __a hashed version of their bank account__, and currency; and item information like category, price, and quantity. (Note: this is a simplified list and not exhaustive).\n",
    "* Fraudulent transactions are expected to constitute approximately 0.5% of all transactions.\n",
    "* The data labeling process is supported by our dedicated fraud team. You can assume for this exercise that all transactions are correctly labeled.\n",
    "* When fraud is discovered the fraud team will __mark all transactions associated with the user accounts as fraudulent__. Again, you can assume for this exercise that all transactions are correctly labeled.\n",
    "* Transactions flagged by the model as potentially fraudulent are temporarily suspended for further examination by the fraud team, who then confirm or refute the fraud suspicion.\n",
    "* The fraud team also has the authority to identify transactions as fraudulent independently of the model's predictions.\n",
    "\n",
    "#### Debugging Objectives:\n",
    "\n",
    "Your primary goal is to address a significant discrepancy observed in the model's performance:\n",
    "\n",
    "* Training and testing phases indicate that the model is effectively learning from the data, as evidenced by decreasing both training and validation loss curves over successive epochs.\n",
    "* However, a critical problem emerges when evaluating the model's real-world effectiveness: it fails to identify fraudulent transactions proactively, only recognizing them post-detection by other means. \n",
    "* Consequently, its success rate significantly lags behind the expectations set by test data performance.\n"
   ]
  },
  {
   "cell_type": "markdown",
   "metadata": {},
   "source": [
    "## Question 1: Identifying and Resolving the Machine Learning Bug\n",
    "In this exercise, your task is to sift through the provided codebase to identify and address any bugs that directly impact the issue at hand. While you may encounter multiple errors or inefficiencies within the code, focus specifically on those that contribute to the overarching problem. It is not necessary to overhaul the entire codebase and don't make changes directly to any files outside of this notebook. Instead, isolate the problematic code segments (methods or functions), copy them into this notebook, and apply your fixes directly to these areas. You are encouraged to use markdown cells or inline comments within the notebook to clarify the identified issues and your rationale behind the fixes. Feel free to utilize as many code or markdown cells as necessary to document your solution process.  Ensure all your findings and corrections are consolidated within this notebook.\n",
    "\n",
    "#### Commentary on Your Solution:\n",
    "* Prioritization: Emphasize the problem(s) that most significantly affect the debugging objectives. Correct at most 2 issues in the code base and please prioritize the one(s) that are directly impeding the model's performance.\n",
    "\n",
    "* Bug Impact Analysis: Explain how the bug(s) you've identified play a role in the larger issue you've been tasked with debugging. Detail the specific ways in which these bugs are hindering the model's performance or accuracy.\n",
    "\n",
    "* Debugging Strategy: Share your thought process behind the debugging strategy. Discuss how you pinpointed the problematic sections of the code and what led you to focus on those areas. Highlight any particular signs, patterns, or instincts that guided your search for the bug(s)."
   ]
  },
  {
   "cell_type": "markdown",
   "metadata": {},
   "source": [
    "[Put answer here]"
   ]
  },
  {
   "cell_type": "code",
   "execution_count": null,
   "metadata": {},
   "outputs": [],
   "source": [
    "# put code here"
   ]
  },
  {
   "cell_type": "markdown",
   "metadata": {},
   "source": [
    "## Question 2: Pursuing Improvement\n",
    "After successfully resolving the initial bugs, the model now mirrors its validation performance in production, __notably improving its detection of first-time fraud__. Despite these advancements, after measuring model performance in production the stakeholders desire further enhancement in the model's fraud detection rate. In this context, consider proposing an alternative model or approach aimed at elevating the fraud detector's performance. Assuming your background isn't in fraud detection, how would you approach this task? Come up with a proposal and explain the research or resources you would leverage to develop and validate your proposed model or approach.\n",
    "\n",
    "#### Commentary on Your Proposal:\n",
    "* Suggested Model/Approach: Introduce an alternative model or strategy you believe could significantly improve the fraud detection system. \n",
    "* It is not necessary to provide a detailed implementation plan, but rather a high-level overview of the proposed model or approach. \n",
    "* Rationale: Explain why you think this proposed model or approach has the potential to outperform the current system.\n",
    "* Validation Strategy: Outline how you would validate the effectiveness of the suggested model or approach over the current model. What metrics or tests would you use to ensure its performance and reliability?\n",
    "* Resources and Research: Mention any specific resources, research papers, or methodologies you would consult to develop and validate your proposed model or approach. It is not necessary to provide detailed citations\n",
    "\n",
    "#### Guidelines:\n",
    "Your response should not exceed 2-3 paragraphs, succinctly capturing the essence of your recommendation and its validation.\n",
    "Focus on clarity and conciseness, ensuring that your proposal is practical for addressing the stakeholders' concerns."
   ]
  },
  {
   "cell_type": "markdown",
   "metadata": {},
   "source": [
    "[Put answer here]"
   ]
  },
  {
   "cell_type": "code",
   "execution_count": null,
   "metadata": {},
   "outputs": [],
   "source": [
    "# put code here"
   ]
  },
  {
   "cell_type": "markdown",
   "metadata": {},
   "source": [
    "## Question 3: Improving the GradientBoostModel Class\n",
    "#### Enhancing Code Quality: Design Principles and Best Practices\n",
    "\n",
    "After securing stakeholder buy-in for your new modeling approach, you aim to repurpose as much existing code as possible. The existing code, especially within the `gradientboost.py` file's `GradientBoostModel` class, presents significant readability and maintainability issues. To avoid repeating these mistakes and to enhance the overall quality of your codebase, it's crucial to apply sound design principles and best practices.\n",
    "\n",
    "#### Task:\n",
    "* Identify a Violated Design Principle: Select one design principle or best practice that is not adhered to in the `GradientBoostModel` class. \n",
    "\n",
    "* Explanation of the Violation: Describe how this principle is violated in the code. Provide examples or scenarios within the GradientBoostModel class that demonstrate this oversight, detailing how it affects the code's readability or maintainability.\n",
    "\n",
    "* Proposed Solution: Offer a solution or set of recommendations on how to rectify this violation. Explain the changes you would make to the GradientBoostModel class to align it with the identified design principle or best practice. Your solution should aim to improve the code's clarity, maintainability, and overall quality. You can provide code snippets or simply describe the changes in detail.\n",
    "\n",
    "#### Guidelines:\n",
    "Your response should focus on a single design principle or best practice, providing a targeted analysis and solution.\n",
    "It is not mandatory to rewrite the code. However, you may choose to provide code snippets or pseudo-code to clarify your points.\n",
    "Emphasize practical insights and actionable solutions that could be applied not just to this specific instance but also as general guidance for future coding efforts."
   ]
  },
  {
   "cell_type": "markdown",
   "metadata": {},
   "source": [
    "[Put answer here]"
   ]
  },
  {
   "cell_type": "code",
   "execution_count": null,
   "metadata": {},
   "outputs": [],
   "source": [
    "# put code here"
   ]
  },
  {
   "cell_type": "markdown",
   "metadata": {},
   "source": [
    "## Question 4: Deployment and Trustworthiness\n",
    "#### Ensuring Model Reliability in Production: MLOps Strategies\n",
    "\n",
    "With the model's bugs addressed and the codebase optimized for readability and maintainability, the stage is set for deployment. However, given the model's central role in a critical business process, stakeholders are rightly concerned about ensuring its reliability in a live environment. The challenge lies in deploying the model in such a way that maximizes trustworthiness and reliability, with minimal disruption or risk to end users. Please outline your approach to deploying the model in a production environment, emphasizing 1 or 2 MLops strategies that would help reassure the stakeholders that the model is ready to be deployed."
   ]
  },
  {
   "cell_type": "markdown",
   "metadata": {},
   "source": [
    "[Put answer here]"
   ]
  },
  {
   "cell_type": "code",
   "execution_count": null,
   "metadata": {},
   "outputs": [],
   "source": [
    "# put code here"
   ]
  },
  {
   "cell_type": "markdown",
   "metadata": {},
   "source": [
    "## Question 5: Assessment\n",
    "#### Yes, I hate self-assessment too, but it's helpful for us to understand your perspective.\n",
    "\n",
    "Please do the following:\n",
    "* Of the questions you've answered, can you rate your confidence level in your responses on a scale from 0 to 10? (0 being not confident at all, 10 being very confident)\n",
    "* Briefly explain your reasoning behind the confidence ratings."
   ]
  },
  {
   "cell_type": "markdown",
   "metadata": {},
   "source": [
    "[Put answer here]"
   ]
  },
  {
   "cell_type": "markdown",
   "metadata": {},
   "source": [
    "## Feedback (optional)\n",
    "#### We'd love to hear your thoughts on this exercise.\n",
    "* Can you provide an honest approximation of the time you spent on this exercise? This isn't used to evaluate you but to make sure the exercise is reasonable.\n",
    "* If there is anything you would improve or add/remove to this exercise, what would it be?"
   ]
  },
  {
   "cell_type": "markdown",
   "metadata": {},
   "source": [
    "[Put feedback here]"
   ]
  }
 ],
 "metadata": {
  "language_info": {
   "name": "python"
  }
 },
 "nbformat": 4,
 "nbformat_minor": 2
}
